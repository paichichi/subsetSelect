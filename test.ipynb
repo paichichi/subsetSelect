{
 "cells": [
  {
   "cell_type": "code",
   "outputs": [],
   "source": [
    "import numpy as np\n",
    "\n",
    "def compute_dissimilarity(dissimilarity_type, X, Y=None):\n",
    "    if Y is None:\n",
    "        Y = X\n",
    "\n",
    "    M = X.shape[1]\n",
    "    N = Y.shape[1]\n",
    "    D = np.zeros((M, N))\n",
    "\n",
    "    dissimilarity_type = dissimilarity_type.lower()\n",
    "\n",
    "    if dissimilarity_type == 'euc':\n",
    "        for i in range(M):\n",
    "            for j in range(N):\n",
    "                D[i, j] = np.linalg.norm(X[:, i] - Y[:, j])\n",
    "\n",
    "    elif dissimilarity_type == 'euc2':\n",
    "        for i in range(M):\n",
    "            for j in range(N):\n",
    "                D[i, j] = np.linalg.norm(X[:, i] - Y[:, j]) ** 2\n",
    "\n",
    "    elif dissimilarity_type == 'l1':\n",
    "        for i in range(M):\n",
    "            for j in range(N):\n",
    "                D[i, j] = np.linalg.norm(X[:, i] - Y[:, j], 1)\n",
    "\n",
    "    elif dissimilarity_type == 'chi':\n",
    "        for i in range(M):\n",
    "            for j in range(N):\n",
    "                D[i, j] = 0.5 * np.sum((X[:, i] - Y[:, j]) ** 2 / (X[:, i] + Y[:, j] + np.finfo(float).eps))\n",
    "\n",
    "    elif dissimilarity_type == 'kl':\n",
    "        for i in range(M):\n",
    "            for j in range(N):\n",
    "                D[i, j] = np.sum(Y[:, j] * np.log2((Y[:, j] + np.finfo(float).eps) / (X[:, i] + np.finfo(float).eps)))\n",
    "\n",
    "    else:\n",
    "        raise ValueError('Unknown dissimilarity type!')\n",
    "\n",
    "    return D"
   ],
   "metadata": {
    "collapsed": false,
    "ExecuteTime": {
     "end_time": "2024-08-24T23:35:23.840738Z",
     "start_time": "2024-08-24T23:35:23.756900Z"
    }
   },
   "id": "9f3804c543809ce1",
   "execution_count": 1
  },
  {
   "cell_type": "code",
   "outputs": [],
   "source": [
    "import numpy as np\n",
    "\n",
    "def compute_regularizer(D, q):\n",
    "    Nr, Nc = D.shape\n",
    "    _, idx = np.min(np.sum(D, axis=1)), np.argmin(np.sum(D, axis=1))\n",
    "    \n",
    "    rho_max = -np.inf\n",
    "    idxC = np.setdiff1d(np.arange(Nr), idx)\n",
    "\n",
    "    if q == 2:\n",
    "        for i in range(Nr - 1):\n",
    "            v = D[idxC[i], :] - D[idx, :]\n",
    "            p = np.sqrt(Nr) * np.linalg.norm(v)**2 / (2 * np.sum(v))\n",
    "            if p > rho_max:\n",
    "                rho_max = p\n",
    "    elif q == np.inf:\n",
    "        for i in range(Nr - 1):\n",
    "            v = D[idxC[i], :] - D[idx, :]\n",
    "            p = np.linalg.norm(v, 1) / 2\n",
    "            if p > rho_max:\n",
    "                rho_max = p\n",
    "\n",
    "    if Nr == Nc:\n",
    "        rho_min = np.min(D + 1e10 * np.eye(Nr))\n",
    "    else:\n",
    "        rho_min = np.min(D)\n",
    "\n",
    "    return rho_min, rho_max\n"
   ],
   "metadata": {
    "collapsed": false,
    "ExecuteTime": {
     "end_time": "2024-08-24T23:35:23.846867Z",
     "start_time": "2024-08-24T23:35:23.842243Z"
    }
   },
   "id": "5dd1c3ee58a5a090",
   "execution_count": 2
  },
  {
   "cell_type": "code",
   "outputs": [],
   "source": [
    "import numpy as np\n",
    "\n",
    "def error_coef(Z, C):\n",
    "    err = np.sum(np.abs(Z - C)) / (Z.shape[0] * Z.shape[1])\n",
    "    # err = np.max(np.abs(Z - C))  # 如果需要使用无穷范数来计算误差，可以将上面一行替换为这一行\n",
    "    return err\n"
   ],
   "metadata": {
    "collapsed": false,
    "ExecuteTime": {
     "end_time": "2024-08-24T23:35:23.856712Z",
     "start_time": "2024-08-24T23:35:23.846867Z"
    }
   },
   "id": "7e492c040a7dfff5",
   "execution_count": 3
  },
  {
   "cell_type": "code",
   "outputs": [],
   "source": [
    "import numpy as np\n",
    "\n",
    "def find_representatives(C, ratio=0.1):\n",
    "    N = C.shape[0]\n",
    "\n",
    "    r = np.zeros(N)\n",
    "    for i in range(N):\n",
    "        r[i] = np.linalg.norm(C[i, :], np.inf)\n",
    "    \n",
    "    sInd = np.where(r >= ratio * np.linalg.norm(r, np.inf))[0]\n",
    "\n",
    "    v = np.zeros(len(sInd))\n",
    "    for i in range(len(sInd)):\n",
    "        v[i] = np.linalg.norm(C[sInd[i], :], 2)\n",
    "\n",
    "    pind = np.argsort(v)[::-1]  # Sort indices in descending order\n",
    "    sInd = sInd[pind]\n",
    "\n",
    "    return sInd\n"
   ],
   "metadata": {
    "collapsed": false,
    "ExecuteTime": {
     "end_time": "2024-08-24T23:35:23.866581Z",
     "start_time": "2024-08-24T23:35:23.856712Z"
    }
   },
   "id": "e80eb5f7bb1ab296",
   "execution_count": 4
  },
  {
   "cell_type": "code",
   "outputs": [],
   "source": [
    "import numpy as np\n",
    "\n",
    "def find_clustering(Z, sInd):\n",
    "    N = Z.shape[1]\n",
    "    membership = np.zeros(N, dtype=int)\n",
    "    \n",
    "    for i in range(N):\n",
    "        t = np.argmax(Z[sInd, i])\n",
    "        membership[i] = sInd[t]\n",
    "    \n",
    "    cluster_centers = np.unique(membership)\n",
    "    clusters = np.zeros(N, dtype=int)\n",
    "\n",
    "    for i, center in enumerate(cluster_centers):\n",
    "        clusters[membership == center] = i + 1  # Assign cluster IDs starting from 1\n",
    "\n",
    "    return clusters, cluster_centers\n"
   ],
   "metadata": {
    "collapsed": false,
    "ExecuteTime": {
     "end_time": "2024-08-24T23:35:23.876036Z",
     "start_time": "2024-08-24T23:35:23.867585Z"
    }
   },
   "id": "c37b94595e8587b1",
   "execution_count": 5
  },
  {
   "cell_type": "code",
   "outputs": [],
   "source": [
    "import numpy as np\n",
    "\n",
    "def L2_Linf_shrink(y, t):\n",
    "    x = np.copy(y)\n",
    "    o = np.argsort(-np.abs(y))  # Sort indices by descending order of absolute values\n",
    "    z = y[o]\n",
    "    mz = np.abs(z)\n",
    "\n",
    "    # Find cut-off index\n",
    "    cs = np.cumsum(mz[:-1]) / np.arange(1, len(mz)) - t / np.arange(1, len(mz))\n",
    "    d = cs > mz[1:]\n",
    "    \n",
    "    if np.sum(d) == 0:\n",
    "        cut_index = len(y)\n",
    "    else:\n",
    "        cut_index = np.min(np.where(d == True)[0]) + 1  # Python indexing starts from 0\n",
    "\n",
    "    # Shrink coordinates 1 to cut_index\n",
    "    zbar = np.mean(mz[:cut_index])\n",
    "    \n",
    "    if cut_index < len(y):\n",
    "        x[o[:cut_index]] = np.sign(z[:cut_index]) * np.maximum(zbar - t / cut_index, mz[cut_index])\n",
    "    else:\n",
    "        x[o[:cut_index]] = np.sign(z[:cut_index]) * np.maximum(zbar - t / cut_index, 0)\n",
    "\n",
    "    return x\n"
   ],
   "metadata": {
    "collapsed": false,
    "ExecuteTime": {
     "end_time": "2024-08-24T23:35:23.886279Z",
     "start_time": "2024-08-24T23:35:23.876036Z"
    }
   },
   "id": "455bd53cbeb05dea",
   "execution_count": 6
  },
  {
   "cell_type": "code",
   "outputs": [],
   "source": [
    "import numpy as np\n",
    "\n",
    "def solver_BCLS_closedForm(U):\n",
    "    m, N = U.shape\n",
    "    V = np.sort(U, axis=0)[::-1]  # Sort U in descending order along each column\n",
    "    active_set = np.arange(N)\n",
    "    theta = np.zeros(N)\n",
    "    i = 1\n",
    "    \n",
    "    while active_set.size > 0 and i <= m:\n",
    "        idx = (V[i-1, active_set] - (np.sum(V[:i, active_set], axis=0) - 1) / i) <= 0\n",
    "        theta[active_set[idx]] = (np.sum(V[:i-1, active_set[idx]], axis=0) - 1) / (i - 1)\n",
    "        active_set = active_set[~idx]\n",
    "        i += 1\n",
    "    \n",
    "    if active_set.size > 0:\n",
    "        theta[active_set] = (np.sum(V[:m, active_set], axis=0) - 1) / m\n",
    "\n",
    "    C = np.maximum(U - np.tile(theta, (m, 1)), 0)\n",
    "    return C\n"
   ],
   "metadata": {
    "collapsed": false,
    "ExecuteTime": {
     "end_time": "2024-08-24T23:35:23.896070Z",
     "start_time": "2024-08-24T23:35:23.886279Z"
    }
   },
   "id": "685780c467303846",
   "execution_count": 7
  },
  {
   "cell_type": "code",
   "outputs": [],
   "source": [
    "import numpy as np\n",
    "\n",
    "def shrink_L1Lp(C1, lambda_, p):\n",
    "    if lambda_ is None or len(lambda_) == 0:\n",
    "        return np.array([])\n",
    "\n",
    "    D, N = C1.shape\n",
    "    C2 = np.zeros_like(C1)\n",
    "\n",
    "    if p == 1:\n",
    "        C2 = np.maximum(np.abs(C1) - np.tile(lambda_, (N, 1)).T, 0) * np.sign(C1)\n",
    "    \n",
    "    elif p == 2:\n",
    "        r = np.zeros(D)\n",
    "        for j in range(D):\n",
    "            r[j] = max(np.linalg.norm(C1[j, :]) - lambda_[j], 0)\n",
    "        C2 = (r / (r + lambda_)).reshape(-1, 1) * C1\n",
    "    \n",
    "    elif p == np.inf:\n",
    "        for j in range(D):\n",
    "            C2[j, :] = L2_Linf_shrink(C1[j, :], lambda_[j])\n",
    "    \n",
    "    return C2\n"
   ],
   "metadata": {
    "collapsed": false,
    "ExecuteTime": {
     "end_time": "2024-08-24T23:35:23.906930Z",
     "start_time": "2024-08-24T23:35:23.896070Z"
    }
   },
   "id": "ca237ca01c732f95",
   "execution_count": 8
  },
  {
   "cell_type": "code",
   "outputs": [],
   "source": [
    "import numpy as np\n",
    "\n",
    "def ds3solver_regularized(D, p=np.inf, options=None):\n",
    "    if options is None:\n",
    "        rho_min, rho_max = compute_regularizer(D, p)\n",
    "        options = {\n",
    "            'rho': 0.1 * rho_max,\n",
    "            'mu': 1e-1,\n",
    "            'maxIter': 3000,\n",
    "            'errThr': 1e-7,\n",
    "            'verbose': True\n",
    "        }\n",
    "\n",
    "    rho = options['rho']\n",
    "    mu = options['mu']\n",
    "    max_iter = options['maxIter']\n",
    "    err_thr = options['errThr']\n",
    "    verbose = options['verbose']\n",
    "    CFD = np.ones(D.shape[0])\n",
    "    ratio = 0.1\n",
    "\n",
    "    # Initialization\n",
    "    Nr, Nc = D.shape\n",
    "    terminate = False\n",
    "    k = 1\n",
    "    _, idx = np.min(np.sum(D, axis=1)), np.argmin(np.sum(D, axis=1))\n",
    "    C1 = np.zeros_like(D)\n",
    "    C1[idx, :] = 1\n",
    "    Lambda = np.zeros((Nr, Nc))\n",
    "\n",
    "    # Running iterations\n",
    "    while not terminate:\n",
    "        Z = shrink_L1Lp(C1 - (Lambda + D) / mu, rho / mu * CFD, p)\n",
    "        C2 = solver_BCLS_closedForm(Z + Lambda / mu)\n",
    "\n",
    "        Lambda = Lambda + mu * (Z - C2)\n",
    "\n",
    "        err1 = error_coef(Z, C2)\n",
    "        err2 = error_coef(C1, C2)\n",
    "\n",
    "        if k >= max_iter or (err1 <= err_thr and err2 <= err_thr):\n",
    "            terminate = True\n",
    "            if verbose:\n",
    "                print('Terminating:')\n",
    "                print(f'||Z-C||= {err1:.2e}, ||C1-C2||= {err2:.2e}, repNum = {len(find_representatives(C2))}, iteration = {k} \\n')\n",
    "        else:\n",
    "            k += 1\n",
    "            if verbose and k % 100 == 0:\n",
    "                print(f'||Z-C||= {err1:.2e}, ||C1-C2||= {err2:.2e}, repNum = {len(find_representatives(C2))}, iteration = {k}')\n",
    "\n",
    "        C1 = C2\n",
    "    \n",
    "    return C2\n",
    "\n"
   ],
   "metadata": {
    "collapsed": false,
    "ExecuteTime": {
     "end_time": "2024-08-24T23:35:23.917339Z",
     "start_time": "2024-08-24T23:35:23.907934Z"
    }
   },
   "id": "692d584f433a7b26",
   "execution_count": 9
  },
  {
   "cell_type": "code",
   "outputs": [],
   "source": [
    "import matplotlib.pyplot as plt\n",
    "import numpy as np\n",
    "\n",
    "def plot_results(Y, Z, sInd):\n",
    "    # 绘制数据点和代表点\n",
    "    plt.figure(figsize=(10, 8))\n",
    "    plt.plot(Y[0, :], Y[1, :], 'o', linewidth=4, color='b', markersize=10, markerfacecolor='b', label='data points')\n",
    "    plt.plot(Y[0, sInd], Y[1, sInd], '+', linewidth=6, color='r', markersize=16, label='representatives')\n",
    "    plt.legend(fontsize=24, prop={'family': 'Times New Roman'})\n",
    "    plt.gca().tick_params(labelsize=24)\n",
    "    plt.show()\n",
    "\n",
    "    # 绘制概率矩阵 Z 的热图\n",
    "    plt.figure(figsize=(10, 8))\n",
    "    plt.imshow(Z, aspect='auto', cmap='pink')\n",
    "    h = plt.get_cmap('pink')\n",
    "    plt.set_cmap(h.reversed())\n",
    "    plt.colorbar()\n",
    "    plt.gca().tick_params(labelsize=24)\n",
    "    plt.show()\n",
    "\n",
    "# 示例调用 plot_results 函数\n",
    "# plot_results(Y, Z, sInd)\n"
   ],
   "metadata": {
    "collapsed": false,
    "ExecuteTime": {
     "end_time": "2024-08-24T23:42:18.115878Z",
     "start_time": "2024-08-24T23:42:18.110349Z"
    }
   },
   "id": "8bb6f325414ffb93",
   "execution_count": 23
  },
  {
   "cell_type": "code",
   "outputs": [
    {
     "name": "stdout",
     "output_type": "stream",
     "text": [
      "||Z-C||= 1.13e-02, ||C1-C2||= 7.39e-05, repNum = 105, iteration = 100\n",
      "||Z-C||= 7.27e-03, ||C1-C2||= 5.99e-05, repNum = 105, iteration = 200\n",
      "||Z-C||= 8.30e-04, ||C1-C2||= 2.24e-04, repNum = 12, iteration = 300\n",
      "||Z-C||= 2.45e-04, ||C1-C2||= 3.04e-05, repNum = 5, iteration = 400\n",
      "||Z-C||= 1.05e-04, ||C1-C2||= 1.11e-05, repNum = 4, iteration = 500\n",
      "||Z-C||= 5.17e-05, ||C1-C2||= 9.83e-06, repNum = 3, iteration = 600\n",
      "||Z-C||= 2.58e-05, ||C1-C2||= 3.07e-07, repNum = 3, iteration = 700\n",
      "||Z-C||= 1.37e-05, ||C1-C2||= 1.50e-07, repNum = 3, iteration = 800\n",
      "||Z-C||= 7.48e-06, ||C1-C2||= 7.64e-08, repNum = 3, iteration = 900\n",
      "||Z-C||= 4.16e-06, ||C1-C2||= 4.04e-08, repNum = 3, iteration = 1000\n",
      "||Z-C||= 2.36e-06, ||C1-C2||= 2.20e-08, repNum = 3, iteration = 1100\n",
      "||Z-C||= 1.35e-06, ||C1-C2||= 1.22e-08, repNum = 3, iteration = 1200\n",
      "||Z-C||= 7.74e-07, ||C1-C2||= 6.83e-09, repNum = 3, iteration = 1300\n",
      "||Z-C||= 4.47e-07, ||C1-C2||= 3.86e-09, repNum = 3, iteration = 1400\n",
      "||Z-C||= 2.60e-07, ||C1-C2||= 2.20e-09, repNum = 3, iteration = 1500\n",
      "||Z-C||= 1.51e-07, ||C1-C2||= 1.27e-09, repNum = 3, iteration = 1600\n",
      "Terminating:\n",
      "||Z-C||= 9.96e-08, ||C1-C2||= 8.25e-10, repNum = 3, iteration = 1677 \n"
     ]
    },
    {
     "data": {
      "text/plain": "<Figure size 1000x800 with 1 Axes>",
      "image/png": "[encoded data removed]"
     },
     "metadata": {},
     "output_type": "display_data"
    },
    {
     "data": {
      "text/plain": "<Figure size 1000x800 with 2 Axes>",
      "image/png": "[encoded data removed]"
     },
     "metadata": {},
     "output_type": "display_data"
    }
   ],
   "source": [
    "import numpy as np\n",
    "import matplotlib.pyplot as plt\n",
    "\n",
    "# 设置随机数种子\n",
    "np.random.seed(111)\n",
    "\n",
    "# 参数设置\n",
    "dissimilarityType = 'Euc'  # 成对不相似性的类型\n",
    "# p = np.inf  # 用于DS3中L1/Lp优化的范数\n",
    "p = 2\n",
    "regularized = True  # True: 规范化版本, False: 约束版本\n",
    "alpha = 0.3  # 正则化系数\n",
    "verbose = True  # True/False: 显示/隐藏优化步骤\n",
    "\n",
    "# 生成源集合和目标集合\n",
    "Ng = 35  # 每个组中的点数\n",
    "X = np.hstack([\n",
    "    np.random.randn(2, Ng) + np.array([[-5], [0]]),\n",
    "    np.random.randn(2, Ng) + np.array([[5], [0]]),\n",
    "    np.random.randn(2, Ng) + np.array([[0], [5]])\n",
    "])  # 源集合\n",
    "Y = X  # 目标集合\n",
    "\n",
    "# 计算D\n",
    "D = compute_dissimilarity(dissimilarityType, X, Y)\n",
    "D = D / np.max(D)\n",
    "\n",
    "# 运行DS3\n",
    "if regularized:\n",
    "    rho_min, rho_max = compute_regularizer(D, p)\n",
    "    options = {\n",
    "        'verbose': verbose,\n",
    "        'rho': alpha * rho_max,  # 正则化参数\n",
    "        'mu': 1e-1,\n",
    "        'maxIter': 3000,\n",
    "        'errThr': 1e-7\n",
    "    }\n",
    "    Z = ds3solver_regularized(D, p, options)\n",
    "else:\n",
    "    print('woshishabi')\n",
    "\n",
    "# 找到代表点和聚类\n",
    "sInd = find_representatives(Z)\n",
    "# clusters, clusterCenters = find_clustering(Z, sInd)\n",
    "# \n",
    "# # 绘制结果\n",
    "# def plot_results(Y, Z, sInd, clusterCenters):\n",
    "#     plt.scatter(Y[0, :], Y[1, :], color='blue', marker='o', label='Data Points')\n",
    "#     plt.scatter(Y[0, sInd], Y[1, sInd], color='red', marker='x', label='Representatives')\n",
    "#     plt.title('DS3 Clustering Results')\n",
    "#     plt.legend()\n",
    "#     plt.show()\n",
    "\n",
    "# 运行绘图函数\n",
    "plot_results(Y, Z, sInd)\n"
   ],
   "metadata": {
    "collapsed": true,
    "ExecuteTime": {
     "end_time": "2024-08-24T23:42:53.272210Z",
     "start_time": "2024-08-24T23:42:47.720389Z"
    }
   },
   "id": "initial_id",
   "execution_count": 26
  },
  {
   "cell_type": "code",
   "outputs": [
    {
     "data": {
      "text/plain": "array([82, 21, 53], dtype=int64)"
     },
     "execution_count": 12,
     "metadata": {},
     "output_type": "execute_result"
    }
   ],
   "source": [
    "sInd"
   ],
   "metadata": {
    "collapsed": false,
    "ExecuteTime": {
     "end_time": "2024-08-24T23:37:31.323060Z",
     "start_time": "2024-08-24T23:37:31.319452Z"
    }
   },
   "id": "646a68e2fc8cc589",
   "execution_count": 12
  },
  {
   "cell_type": "code",
   "outputs": [],
   "source": [],
   "metadata": {
    "collapsed": false
   },
   "id": "7dfcaa32f4982edb"
  }
 ],
 "metadata": {
  "kernelspec": {
   "display_name": "Python 3",
   "language": "python",
   "name": "python3"
  },
  "language_info": {
   "codemirror_mode": {
    "name": "ipython",
    "version": 2
   },
   "file_extension": ".py",
   "mimetype": "text/x-python",
   "name": "python",
   "nbconvert_exporter": "python",
   "pygments_lexer": "ipython2",
   "version": "2.7.6"
  }
 },
 "nbformat": 4,
 "nbformat_minor": 5
}
